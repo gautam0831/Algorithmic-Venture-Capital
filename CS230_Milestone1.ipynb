{
  "nbformat": 4,
  "nbformat_minor": 0,
  "metadata": {
    "colab": {
      "name": "CS230_studying.ipynb",
      "provenance": [],
      "collapsed_sections": []
    },
    "kernelspec": {
      "name": "python3",
      "display_name": "Python 3"
    }
  },
  "cells": [
    {
      "cell_type": "code",
      "metadata": {
        "id": "_dIuvpGUcnp4"
      },
      "source": [
        "import numpy as np\n",
        "import matplotlib.pyplot as plt\n",
        "import h5py\n",
        "import scipy\n",
        "from PIL import Image\n",
        "from scipy import ndimage\n",
        "# from lr_utils import load_dataset\n",
        "import pandas as pd\n",
        "import tensorflow as tf"
      ],
      "execution_count": 15,
      "outputs": []
    },
    {
      "cell_type": "code",
      "metadata": {
        "id": "ZF7BV4UAJn8C",
        "outputId": "499290ab-e5b5-4167-d138-148ed4f16e0c",
        "colab": {
          "base_uri": "https://localhost:8080/"
        }
      },
      "source": [
        "url=\"https://raw.githubusercontent.com/gautam0831/CS230_Project/main/crunchbase-oct-2013/crunchbase-companies.csv\"\n",
        "path=\"https://raw.githubusercontent.com/gautam0831/CS230_Project/main/crunchbase-oct-2013/\"\n",
        "files_in_path=[\"crunchbase-acquisitions.csv\",\"crunchbase-companies.csv\",\"crunchbase-investments.csv\", \"crunchbase-rounds.csv\"]\n",
        "dicts = {}\n",
        "for i in range(len(files_in_path)):\n",
        "  fname = pd.read_csv(path+files_in_path[i], error_bad_lines=False, encoding='latin-1')\n",
        "  dicts[files_in_path[i]] = fname\n",
        "  #print(dicts[files_in_path[i]])\n",
        "#c=pd.read_csv(url, error_bad_lines=False, encoding='latin-1')\n",
        "#print(c)"
      ],
      "execution_count": 36,
      "outputs": [
        {
          "output_type": "stream",
          "text": [
            "/usr/local/lib/python3.6/dist-packages/IPython/core/interactiveshell.py:2718: DtypeWarning: Columns (9) have mixed types.Specify dtype option on import or set low_memory=False.\n",
            "  interactivity=interactivity, compiler=compiler, result=result)\n"
          ],
          "name": "stderr"
        }
      ]
    },
    {
      "cell_type": "code",
      "metadata": {
        "id": "ZyLJn_vwLfJb"
      },
      "source": [
        ""
      ],
      "execution_count": 16,
      "outputs": []
    },
    {
      "cell_type": "code",
      "metadata": {
        "id": "UfCLhvaqLy53",
        "outputId": "c01fd044-cf2e-4367-8228-e7f6cfb41eaa",
        "colab": {
          "base_uri": "https://localhost:8080/"
        }
      },
      "source": [
        "print(c['funding_rounds'])"
      ],
      "execution_count": null,
      "outputs": [
        {
          "output_type": "stream",
          "text": [
            "0        1\n",
            "1        1\n",
            "2        1\n",
            "3        1\n",
            "4        1\n",
            "        ..\n",
            "17722    2\n",
            "17723    1\n",
            "17724    3\n",
            "17725    4\n",
            "17726    1\n",
            "Name: funding_rounds, Length: 17727, dtype: int64\n"
          ],
          "name": "stdout"
        }
      ]
    },
    {
      "cell_type": "code",
      "metadata": {
        "id": "A0I7VWbJczU5",
        "outputId": "cdbf8d16-1bb4-41d7-f7c9-cac20b497585",
        "colab": {
          "base_uri": "https://localhost:8080/"
        }
      },
      "source": [
        "file1 = pd.read_csv(path+files_in_path[0], error_bad_lines=False, encoding='latin-1')\n",
        "print(file1.columns)"
      ],
      "execution_count": 28,
      "outputs": [
        {
          "output_type": "stream",
          "text": [
            "Index(['company_permalink', 'company_name', 'company_category_code',\n",
            "       'company_country_code', 'company_state_code', 'company_region',\n",
            "       'company_city', 'acquirer_permalink', 'acquirer_name',\n",
            "       'acquirer_category_code', 'acquirer_country_code',\n",
            "       'acquirer_state_code', 'acquirer_region', 'acquirer_city',\n",
            "       'acquired_at', 'acquired_month', 'acquired_quarter', 'acquired_year',\n",
            "       'price_amount', 'price_currency_code'],\n",
            "      dtype='object')\n"
          ],
          "name": "stdout"
        }
      ]
    },
    {
      "cell_type": "markdown",
      "metadata": {
        "id": "5GnI9cb8PgZi"
      },
      "source": [
        ""
      ]
    },
    {
      "cell_type": "code",
      "metadata": {
        "id": "B1O6QHrSdIGV",
        "outputId": "df8f534d-9d9a-4605-f55d-76ec272567c1",
        "colab": {
          "base_uri": "https://localhost:8080/"
        }
      },
      "source": [
        "file2 = pd.read_csv(path+files_in_path[1], error_bad_lines=False, encoding='latin-1')\n",
        "file3 = pd.read_csv(path+files_in_path[2], error_bad_lines=False, encoding='latin-1')\n",
        "file4 = pd.read_csv(path+files_in_path[3], error_bad_lines=False, encoding='latin-1')\n",
        "print(file4.columns)"
      ],
      "execution_count": 37,
      "outputs": [
        {
          "output_type": "stream",
          "text": [
            "/usr/local/lib/python3.6/dist-packages/IPython/core/interactiveshell.py:2718: DtypeWarning: Columns (9) have mixed types.Specify dtype option on import or set low_memory=False.\n",
            "  interactivity=interactivity, compiler=compiler, result=result)\n"
          ],
          "name": "stderr"
        },
        {
          "output_type": "stream",
          "text": [
            "Index(['company_permalink', 'company_name', 'company_category_code',\n",
            "       'company_country_code', 'company_state_code', 'company_region',\n",
            "       'company_city', 'funding_round_type', 'funded_at', 'funded_month',\n",
            "       'funded_quarter', 'funded_year', 'raised_amount_usd'],\n",
            "      dtype='object')\n"
          ],
          "name": "stdout"
        }
      ]
    },
    {
      "cell_type": "code",
      "metadata": {
        "id": "Z-Wv9HDhJLb8",
        "outputId": "4dee33e4-0eae-4a5b-c303-88e8144b9303",
        "colab": {
          "base_uri": "https://localhost:8080/",
          "height": 343
        }
      },
      "source": [
        "combined = pd.merge(file1, file2, left_on = \"company_permalink\", right_on = \"permalink\", how = \"inner\")\n",
        "#combined.head()\n",
        "combined2 = pd.merge(combined, file3, on = \"company_permalink\", how = \"inner\")\n",
        "combined2.head()"
      ],
      "execution_count": 34,
      "outputs": [
        {
          "output_type": "execute_result",
          "data": {
            "text/html": [
              "<div>\n",
              "<style scoped>\n",
              "    .dataframe tbody tr th:only-of-type {\n",
              "        vertical-align: middle;\n",
              "    }\n",
              "\n",
              "    .dataframe tbody tr th {\n",
              "        vertical-align: top;\n",
              "    }\n",
              "\n",
              "    .dataframe thead th {\n",
              "        text-align: right;\n",
              "    }\n",
              "</style>\n",
              "<table border=\"1\" class=\"dataframe\">\n",
              "  <thead>\n",
              "    <tr style=\"text-align: right;\">\n",
              "      <th></th>\n",
              "      <th>company_permalink</th>\n",
              "      <th>company_name_x</th>\n",
              "      <th>company_category_code_x</th>\n",
              "      <th>company_country_code_x</th>\n",
              "      <th>company_state_code_x</th>\n",
              "      <th>company_region_x</th>\n",
              "      <th>company_city_x</th>\n",
              "      <th>acquirer_permalink</th>\n",
              "      <th>acquirer_name</th>\n",
              "      <th>acquirer_category_code</th>\n",
              "      <th>acquirer_country_code</th>\n",
              "      <th>acquirer_state_code</th>\n",
              "      <th>acquirer_region</th>\n",
              "      <th>acquirer_city</th>\n",
              "      <th>acquired_at</th>\n",
              "      <th>acquired_month</th>\n",
              "      <th>acquired_quarter</th>\n",
              "      <th>acquired_year</th>\n",
              "      <th>price_amount</th>\n",
              "      <th>price_currency_code</th>\n",
              "      <th>permalink</th>\n",
              "      <th>name</th>\n",
              "      <th>category_code</th>\n",
              "      <th>funding_total_usd</th>\n",
              "      <th>status</th>\n",
              "      <th>country_code</th>\n",
              "      <th>state_code</th>\n",
              "      <th>region</th>\n",
              "      <th>city</th>\n",
              "      <th>funding_rounds</th>\n",
              "      <th>founded_at</th>\n",
              "      <th>founded_month</th>\n",
              "      <th>founded_quarter</th>\n",
              "      <th>founded_year</th>\n",
              "      <th>first_funding_at</th>\n",
              "      <th>last_funding_at</th>\n",
              "      <th>last_milestone_at</th>\n",
              "      <th>company_name_y</th>\n",
              "      <th>company_category_code_y</th>\n",
              "      <th>company_country_code_y</th>\n",
              "      <th>company_state_code_y</th>\n",
              "      <th>company_region_y</th>\n",
              "      <th>company_city_y</th>\n",
              "      <th>investor_permalink</th>\n",
              "      <th>investor_name</th>\n",
              "      <th>investor_category_code</th>\n",
              "      <th>investor_country_code</th>\n",
              "      <th>investor_state_code</th>\n",
              "      <th>investor_region</th>\n",
              "      <th>investor_city</th>\n",
              "      <th>funding_round_type</th>\n",
              "      <th>funded_at</th>\n",
              "      <th>funded_month</th>\n",
              "      <th>funded_quarter</th>\n",
              "      <th>funded_year</th>\n",
              "      <th>raised_amount_usd</th>\n",
              "    </tr>\n",
              "  </thead>\n",
              "  <tbody>\n",
              "    <tr>\n",
              "      <th>0</th>\n",
              "      <td>/company/1000memories</td>\n",
              "      <td>1000memories</td>\n",
              "      <td>web</td>\n",
              "      <td>USA</td>\n",
              "      <td>CA</td>\n",
              "      <td>SF Bay</td>\n",
              "      <td>San Francisco</td>\n",
              "      <td>/company/ancestry-com</td>\n",
              "      <td>Ancestry</td>\n",
              "      <td>ecommerce</td>\n",
              "      <td>USA</td>\n",
              "      <td>UT</td>\n",
              "      <td>Salt Lake City</td>\n",
              "      <td>Provo</td>\n",
              "      <td>2012-10-03</td>\n",
              "      <td>2012-10</td>\n",
              "      <td>2012-Q4</td>\n",
              "      <td>2012.0</td>\n",
              "      <td>NaN</td>\n",
              "      <td>USD</td>\n",
              "      <td>/company/1000memories</td>\n",
              "      <td>1000memories</td>\n",
              "      <td>web</td>\n",
              "      <td>2535000</td>\n",
              "      <td>acquired</td>\n",
              "      <td>USA</td>\n",
              "      <td>CA</td>\n",
              "      <td>SF Bay</td>\n",
              "      <td>San Francisco</td>\n",
              "      <td>2</td>\n",
              "      <td>2010-07-01</td>\n",
              "      <td>2010-07</td>\n",
              "      <td>2010-Q3</td>\n",
              "      <td>2010.0</td>\n",
              "      <td>2010-01-01</td>\n",
              "      <td>2011-02-16</td>\n",
              "      <td>2013-07-04</td>\n",
              "      <td>1000memories</td>\n",
              "      <td>web</td>\n",
              "      <td>USA</td>\n",
              "      <td>CA</td>\n",
              "      <td>SF Bay</td>\n",
              "      <td>San Francisco</td>\n",
              "      <td>/company/y-combinator</td>\n",
              "      <td>Y Combinator</td>\n",
              "      <td>finance</td>\n",
              "      <td>USA</td>\n",
              "      <td>CA</td>\n",
              "      <td>SF Bay</td>\n",
              "      <td>Mountain View</td>\n",
              "      <td>angel</td>\n",
              "      <td>2010-01-01</td>\n",
              "      <td>2010-01</td>\n",
              "      <td>2010-Q1</td>\n",
              "      <td>2010.0</td>\n",
              "      <td>15000.0</td>\n",
              "    </tr>\n",
              "    <tr>\n",
              "      <th>1</th>\n",
              "      <td>/company/1000memories</td>\n",
              "      <td>1000memories</td>\n",
              "      <td>web</td>\n",
              "      <td>USA</td>\n",
              "      <td>CA</td>\n",
              "      <td>SF Bay</td>\n",
              "      <td>San Francisco</td>\n",
              "      <td>/company/ancestry-com</td>\n",
              "      <td>Ancestry</td>\n",
              "      <td>ecommerce</td>\n",
              "      <td>USA</td>\n",
              "      <td>UT</td>\n",
              "      <td>Salt Lake City</td>\n",
              "      <td>Provo</td>\n",
              "      <td>2012-10-03</td>\n",
              "      <td>2012-10</td>\n",
              "      <td>2012-Q4</td>\n",
              "      <td>2012.0</td>\n",
              "      <td>NaN</td>\n",
              "      <td>USD</td>\n",
              "      <td>/company/1000memories</td>\n",
              "      <td>1000memories</td>\n",
              "      <td>web</td>\n",
              "      <td>2535000</td>\n",
              "      <td>acquired</td>\n",
              "      <td>USA</td>\n",
              "      <td>CA</td>\n",
              "      <td>SF Bay</td>\n",
              "      <td>San Francisco</td>\n",
              "      <td>2</td>\n",
              "      <td>2010-07-01</td>\n",
              "      <td>2010-07</td>\n",
              "      <td>2010-Q3</td>\n",
              "      <td>2010.0</td>\n",
              "      <td>2010-01-01</td>\n",
              "      <td>2011-02-16</td>\n",
              "      <td>2013-07-04</td>\n",
              "      <td>1000memories</td>\n",
              "      <td>web</td>\n",
              "      <td>USA</td>\n",
              "      <td>CA</td>\n",
              "      <td>SF Bay</td>\n",
              "      <td>San Francisco</td>\n",
              "      <td>/financial-organization/felicis-ventures</td>\n",
              "      <td>Felicis Ventures</td>\n",
              "      <td>NaN</td>\n",
              "      <td>USA</td>\n",
              "      <td>CA</td>\n",
              "      <td>SF Bay</td>\n",
              "      <td>Palo Alto</td>\n",
              "      <td>series-a</td>\n",
              "      <td>2011-02-16</td>\n",
              "      <td>2011-02</td>\n",
              "      <td>2011-Q1</td>\n",
              "      <td>2011.0</td>\n",
              "      <td>2520000.0</td>\n",
              "    </tr>\n",
              "    <tr>\n",
              "      <th>2</th>\n",
              "      <td>/company/1000memories</td>\n",
              "      <td>1000memories</td>\n",
              "      <td>web</td>\n",
              "      <td>USA</td>\n",
              "      <td>CA</td>\n",
              "      <td>SF Bay</td>\n",
              "      <td>San Francisco</td>\n",
              "      <td>/company/ancestry-com</td>\n",
              "      <td>Ancestry</td>\n",
              "      <td>ecommerce</td>\n",
              "      <td>USA</td>\n",
              "      <td>UT</td>\n",
              "      <td>Salt Lake City</td>\n",
              "      <td>Provo</td>\n",
              "      <td>2012-10-03</td>\n",
              "      <td>2012-10</td>\n",
              "      <td>2012-Q4</td>\n",
              "      <td>2012.0</td>\n",
              "      <td>NaN</td>\n",
              "      <td>USD</td>\n",
              "      <td>/company/1000memories</td>\n",
              "      <td>1000memories</td>\n",
              "      <td>web</td>\n",
              "      <td>2535000</td>\n",
              "      <td>acquired</td>\n",
              "      <td>USA</td>\n",
              "      <td>CA</td>\n",
              "      <td>SF Bay</td>\n",
              "      <td>San Francisco</td>\n",
              "      <td>2</td>\n",
              "      <td>2010-07-01</td>\n",
              "      <td>2010-07</td>\n",
              "      <td>2010-Q3</td>\n",
              "      <td>2010.0</td>\n",
              "      <td>2010-01-01</td>\n",
              "      <td>2011-02-16</td>\n",
              "      <td>2013-07-04</td>\n",
              "      <td>1000memories</td>\n",
              "      <td>web</td>\n",
              "      <td>USA</td>\n",
              "      <td>CA</td>\n",
              "      <td>SF Bay</td>\n",
              "      <td>San Francisco</td>\n",
              "      <td>/financial-organization/floodgate</td>\n",
              "      <td>FLOODGATE</td>\n",
              "      <td>NaN</td>\n",
              "      <td>USA</td>\n",
              "      <td>CA</td>\n",
              "      <td>SF Bay</td>\n",
              "      <td>Palo Alto</td>\n",
              "      <td>series-a</td>\n",
              "      <td>2011-02-16</td>\n",
              "      <td>2011-02</td>\n",
              "      <td>2011-Q1</td>\n",
              "      <td>2011.0</td>\n",
              "      <td>2520000.0</td>\n",
              "    </tr>\n",
              "    <tr>\n",
              "      <th>3</th>\n",
              "      <td>/company/1000memories</td>\n",
              "      <td>1000memories</td>\n",
              "      <td>web</td>\n",
              "      <td>USA</td>\n",
              "      <td>CA</td>\n",
              "      <td>SF Bay</td>\n",
              "      <td>San Francisco</td>\n",
              "      <td>/company/ancestry-com</td>\n",
              "      <td>Ancestry</td>\n",
              "      <td>ecommerce</td>\n",
              "      <td>USA</td>\n",
              "      <td>UT</td>\n",
              "      <td>Salt Lake City</td>\n",
              "      <td>Provo</td>\n",
              "      <td>2012-10-03</td>\n",
              "      <td>2012-10</td>\n",
              "      <td>2012-Q4</td>\n",
              "      <td>2012.0</td>\n",
              "      <td>NaN</td>\n",
              "      <td>USD</td>\n",
              "      <td>/company/1000memories</td>\n",
              "      <td>1000memories</td>\n",
              "      <td>web</td>\n",
              "      <td>2535000</td>\n",
              "      <td>acquired</td>\n",
              "      <td>USA</td>\n",
              "      <td>CA</td>\n",
              "      <td>SF Bay</td>\n",
              "      <td>San Francisco</td>\n",
              "      <td>2</td>\n",
              "      <td>2010-07-01</td>\n",
              "      <td>2010-07</td>\n",
              "      <td>2010-Q3</td>\n",
              "      <td>2010.0</td>\n",
              "      <td>2010-01-01</td>\n",
              "      <td>2011-02-16</td>\n",
              "      <td>2013-07-04</td>\n",
              "      <td>1000memories</td>\n",
              "      <td>web</td>\n",
              "      <td>USA</td>\n",
              "      <td>CA</td>\n",
              "      <td>SF Bay</td>\n",
              "      <td>San Francisco</td>\n",
              "      <td>/financial-organization/founder-collective</td>\n",
              "      <td>Founder Collective</td>\n",
              "      <td>NaN</td>\n",
              "      <td>USA</td>\n",
              "      <td>NY</td>\n",
              "      <td>New York</td>\n",
              "      <td>New York</td>\n",
              "      <td>angel</td>\n",
              "      <td>2010-01-01</td>\n",
              "      <td>2010-01</td>\n",
              "      <td>2010-Q1</td>\n",
              "      <td>2010.0</td>\n",
              "      <td>15000.0</td>\n",
              "    </tr>\n",
              "    <tr>\n",
              "      <th>4</th>\n",
              "      <td>/company/1000memories</td>\n",
              "      <td>1000memories</td>\n",
              "      <td>web</td>\n",
              "      <td>USA</td>\n",
              "      <td>CA</td>\n",
              "      <td>SF Bay</td>\n",
              "      <td>San Francisco</td>\n",
              "      <td>/company/ancestry-com</td>\n",
              "      <td>Ancestry</td>\n",
              "      <td>ecommerce</td>\n",
              "      <td>USA</td>\n",
              "      <td>UT</td>\n",
              "      <td>Salt Lake City</td>\n",
              "      <td>Provo</td>\n",
              "      <td>2012-10-03</td>\n",
              "      <td>2012-10</td>\n",
              "      <td>2012-Q4</td>\n",
              "      <td>2012.0</td>\n",
              "      <td>NaN</td>\n",
              "      <td>USD</td>\n",
              "      <td>/company/1000memories</td>\n",
              "      <td>1000memories</td>\n",
              "      <td>web</td>\n",
              "      <td>2535000</td>\n",
              "      <td>acquired</td>\n",
              "      <td>USA</td>\n",
              "      <td>CA</td>\n",
              "      <td>SF Bay</td>\n",
              "      <td>San Francisco</td>\n",
              "      <td>2</td>\n",
              "      <td>2010-07-01</td>\n",
              "      <td>2010-07</td>\n",
              "      <td>2010-Q3</td>\n",
              "      <td>2010.0</td>\n",
              "      <td>2010-01-01</td>\n",
              "      <td>2011-02-16</td>\n",
              "      <td>2013-07-04</td>\n",
              "      <td>1000memories</td>\n",
              "      <td>web</td>\n",
              "      <td>USA</td>\n",
              "      <td>CA</td>\n",
              "      <td>SF Bay</td>\n",
              "      <td>San Francisco</td>\n",
              "      <td>/financial-organization/greylock</td>\n",
              "      <td>Greylock Partners</td>\n",
              "      <td>NaN</td>\n",
              "      <td>USA</td>\n",
              "      <td>CA</td>\n",
              "      <td>SF Bay</td>\n",
              "      <td>Menlo Park</td>\n",
              "      <td>series-a</td>\n",
              "      <td>2011-02-16</td>\n",
              "      <td>2011-02</td>\n",
              "      <td>2011-Q1</td>\n",
              "      <td>2011.0</td>\n",
              "      <td>2520000.0</td>\n",
              "    </tr>\n",
              "  </tbody>\n",
              "</table>\n",
              "</div>"
            ],
            "text/plain": [
              "       company_permalink company_name_x  ... funded_year raised_amount_usd\n",
              "0  /company/1000memories   1000memories  ...      2010.0           15000.0\n",
              "1  /company/1000memories   1000memories  ...      2011.0         2520000.0\n",
              "2  /company/1000memories   1000memories  ...      2011.0         2520000.0\n",
              "3  /company/1000memories   1000memories  ...      2010.0           15000.0\n",
              "4  /company/1000memories   1000memories  ...      2011.0         2520000.0\n",
              "\n",
              "[5 rows x 56 columns]"
            ]
          },
          "metadata": {
            "tags": []
          },
          "execution_count": 34
        }
      ]
    },
    {
      "cell_type": "code",
      "metadata": {
        "id": "FRr4Ok_7K0ni",
        "outputId": "4fba8f6e-102a-4ac0-8e71-d67959e90c89",
        "colab": {
          "base_uri": "https://localhost:8080/",
          "height": 181
        }
      },
      "source": [
        "#Filter for just US Companies\n",
        "combined = combined[combined[\"company_country_code\"] == \"USA\"]"
      ],
      "execution_count": null,
      "outputs": [
        {
          "output_type": "error",
          "ename": "NameError",
          "evalue": "ignored",
          "traceback": [
            "\u001b[0;31m---------------------------------------------------------------------------\u001b[0m",
            "\u001b[0;31mNameError\u001b[0m                                 Traceback (most recent call last)",
            "\u001b[0;32m<ipython-input-2-03ebc46f6751>\u001b[0m in \u001b[0;36m<module>\u001b[0;34m()\u001b[0m\n\u001b[1;32m      1\u001b[0m \u001b[0;31m#Filter for just US Companies\u001b[0m\u001b[0;34m\u001b[0m\u001b[0;34m\u001b[0m\u001b[0;34m\u001b[0m\u001b[0m\n\u001b[0;32m----> 2\u001b[0;31m \u001b[0mcombined\u001b[0m \u001b[0;34m=\u001b[0m \u001b[0mcombined\u001b[0m\u001b[0;34m[\u001b[0m\u001b[0mcombined\u001b[0m\u001b[0;34m[\u001b[0m\u001b[0;34m\"company_country_code\"\u001b[0m\u001b[0;34m]\u001b[0m \u001b[0;34m==\u001b[0m \u001b[0;34m\"USA\"\u001b[0m\u001b[0;34m]\u001b[0m\u001b[0;34m\u001b[0m\u001b[0;34m\u001b[0m\u001b[0m\n\u001b[0m",
            "\u001b[0;31mNameError\u001b[0m: name 'combined' is not defined"
          ]
        }
      ]
    },
    {
      "cell_type": "code",
      "metadata": {
        "id": "Wwl2HLT_LItD"
      },
      "source": [
        ""
      ],
      "execution_count": null,
      "outputs": []
    }
  ]
}