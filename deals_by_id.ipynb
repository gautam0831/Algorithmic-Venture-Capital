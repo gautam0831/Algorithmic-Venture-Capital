{
 "cells": [
  {
   "cell_type": "code",
   "execution_count": 1,
   "metadata": {},
   "outputs": [],
   "source": [
    "import numpy as np\n",
    "import pandas as pd"
   ]
  },
  {
   "cell_type": "code",
   "execution_count": 2,
   "metadata": {},
   "outputs": [],
   "source": [
    "deal_type = pd.read_csv('deals/deal_type.csv', encoding = \"ISO-8859-1\", low_memory=False)"
   ]
  },
  {
   "cell_type": "code",
   "execution_count": 3,
   "metadata": {},
   "outputs": [
    {
     "name": "stdout",
     "output_type": "stream",
     "text": [
      "      id             description\n",
      "0     -1                     NaN\n",
      "1      1       Asset Acquisition\n",
      "2      2      Merger/Acquisition\n",
      "3      3   Acquisition Financing\n",
      "4      4                  Add-on\n",
      "..   ...                     ...\n",
      "151  190   Accelerator/Incubator\n",
      "152  191    Product Crowdfunding\n",
      "153  192         Out of Business\n",
      "154  193  Distressed Acquisition\n",
      "155  194          Capitalization\n",
      "\n",
      "[156 rows x 2 columns]\n"
     ]
    }
   ],
   "source": [
    "print(deal_type)"
   ]
  },
  {
   "cell_type": "code",
   "execution_count": 4,
   "metadata": {},
   "outputs": [],
   "source": [
    "deal_dict = pd.Series(deal_type.id.values,index=deal_type.description).to_dict()"
   ]
  },
  {
   "cell_type": "code",
   "execution_count": 5,
   "metadata": {},
   "outputs": [
    {
     "name": "stdout",
     "output_type": "stream",
     "text": [
      "{nan: -1, 'Asset Acquisition': 1, 'Merger/Acquisition': 2, 'Acquisition Financing': 3, 'Add-on': 4, 'Bankruptcy Financing': 5, 'Bridge': 6, 'Bankruptcy: Admin/Reorg': 7, 'Bankruptcy: Liquidation': 8, 'Carveout': 9, 'Collateralized Debt Obligation': 10, 'Corporate': 11, 'Corporate Divestiture': 12, 'Corporate Licensing': 13, 'Corporate Strategic': 14, 'Credit': 15, 'Debt - General': 16, 'Equity For Service': 17, 'Investor Buyout by Management': 19, 'Angel (individual)': 20, 'IPO': 21, 'Joint Venture': 22, 'Later Stage - VC': 23, 'Buyout/LBO': 24, 'Leveraged Recapitalization': 25, 'Loan': 26, 'Management Buy-In': 27, 'Management Buyout': 28, 'Merger': 29, 'Merger of Equals': 30, 'PE Growth/Expansion': 32, 'Private Placement': 33, 'PIPE': 34, 'Public to Private': 35, 'Restart - 1st': 36, 'Restart - 2nd': 37, 'Restart - 3rd': 38, 'Restart - 4th': 39, 'Recapitalization': 40, 'Later Stage VC - Reg D': 41, 'Later Stage VC - Reg S': 42, 'Restart - Rest': 43, 'Reverse Merger': 44, 'Restart - Later VC': 45, 'Restart - Seed': 46, 'Grant': 47, 'Secondary Transaction - Private': 48, 'Seed Round': 49, 'Share Repurchase': 50, 'Spin-Off': 51, 'Senior Debt': 52, 'Subordinated Debt': 53, 'Tender Offer': 54, 'Venture Leasing': 56, 'Hedge Fund': 57, 'First Round': 58, 'Second Round': 59, 'Public Investment 2nd Offering': 60, 'Later Stage - 3rd': 61, 'Later Stage - 4th': 62, 'Later Stage - 5th': 63, 'Later Stage - 6th': 64, 'Later Stage - 7th': 65, 'Later Stage - 8th': 66, 'Later Stage - 9th': 67, 'Undetermined': 68, 'Dividend Recapitalization': 69, 'Equity': 70, 'Mezzanine': 72, 'Revolving Credit Line': 73, 'Vendor Loan': 74, 'Secured Debt': 75, 'Unsecured Debt': 77, 'Federal Debt': 78, 'Funded Debt': 79, 'Gilt Fund': 80, 'Limited Recourse Debt': 81, 'Effective Debt': 82, 'Unsubordinated Debt': 84, 'Installment Debt': 85, 'Overlapping Debt': 86, 'Second Lien': 87, 'Nondischargeable Debt': 88, 'Convertible Debt': 89, 'Bonds': 90, 'Commercial Paper': 92, 'Sale-Lease back facility': 93, 'Other Debt': 94, 'Other Credit': 95, 'Dividend': 96, 'Secondary Buyout': 125, 'Secondary Transaction - Open Market': 126, 'Debt Refinancing': 130, 'Debt Repayment': 131, 'Privatization': 132, 'Public-Private Partnership': 134, 'Asset Divestiture (Corporate)': 135, 'Restart - Early VC': 136, 'Early Stage VC': 137, 'Later Stage VC': 138, 'Series A': 139, 'Series A1': 140, 'Series A2': 141, 'Series A3': 142, 'Series AA': 143, 'Series AAA': 144, 'Series B': 145, 'Series B1': 146, 'Series B2': 147, 'Series B3': 148, 'Series BB': 149, 'Series BBB': 150, 'Series C': 151, 'Series C1': 152, 'Series C2': 153, 'Series C3': 154, 'Series CC': 155, 'Series CCC': 156, 'Series D': 157, 'Series D1': 158, 'Series D2': 159, 'Series D3': 160, 'Series DD': 161, 'Series DDD': 162, 'Series E': 163, 'Series E1': 164, 'Series E2': 165, 'Series E3': 166, 'Series EE': 167, 'Series EEE': 168, 'Series F': 169, 'Series G': 170, 'Series H': 171, 'Series I': 172, 'Series J': 173, 'Series K': 174, 'Bonds (Convertible)': 175, 'Seller Notes': 176, 'Senior Debt, Secured': 177, 'Senior Debt, Subordinated': 178, 'Junior Debt': 179, 'Restart - Corporate': 180, 'Restart - Angel': 181, 'Corporate Asset Purchase': 182, 'Debt Conversion': 183, 'Series 1': 184, 'Series 2': 185, 'Series 3': 186, 'Platform Creation': 187, 'Secondary Transaction - Stock Distribution': 188, 'Debt Refinance': 189, 'Accelerator/Incubator': 190, 'Product Crowdfunding': 191, 'Out of Business': 192, 'Distressed Acquisition': 193, 'Capitalization': 194}\n"
     ]
    }
   ],
   "source": [
    "print(deal_dict)"
   ]
  },
  {
   "cell_type": "code",
   "execution_count": 6,
   "metadata": {},
   "outputs": [],
   "source": [
    "deals_2019_2 = pd.read_csv('deals/deals_20191114.csv', encoding = \"ISO-8859-1\", low_memory=False)"
   ]
  },
  {
   "cell_type": "code",
   "execution_count": 7,
   "metadata": {},
   "outputs": [],
   "source": [
    "deals_2019_2['deal_type_1']= deals_2019_2['deal_type_1'].map(deal_dict)"
   ]
  },
  {
   "cell_type": "code",
   "execution_count": 8,
   "metadata": {},
   "outputs": [
    {
     "name": "stdout",
     "output_type": "stream",
     "text": [
      "0         190\n",
      "1         137\n",
      "2           2\n",
      "3          20\n",
      "4         137\n",
      "         ... \n",
      "276388     47\n",
      "276389    137\n",
      "276390     49\n",
      "276391    137\n",
      "276392    138\n",
      "Name: deal_type_1, Length: 276393, dtype: int64\n"
     ]
    }
   ],
   "source": [
    "print(deals_2019_2['deal_type_1'])"
   ]
  },
  {
   "cell_type": "code",
   "execution_count": 9,
   "metadata": {},
   "outputs": [],
   "source": [
    "deals_2018 = pd.read_csv('deals/deals20180131.csv', encoding = \"ISO-8859-1\", low_memory=False)"
   ]
  },
  {
   "cell_type": "code",
   "execution_count": 10,
   "metadata": {},
   "outputs": [],
   "source": [
    "deals_2018['deal_type_1']= deals_2018['deal_type_1'].map(deal_dict)"
   ]
  },
  {
   "cell_type": "code",
   "execution_count": 11,
   "metadata": {},
   "outputs": [],
   "source": [
    "deals_2019 = pd.read_csv('deals/deals_20190829.csv', encoding = \"ISO-8859-1\", low_memory=False)"
   ]
  },
  {
   "cell_type": "code",
   "execution_count": 12,
   "metadata": {},
   "outputs": [],
   "source": [
    "deals_2019['deal_type_1']= deals_2019['deal_type_1'].map(deal_dict)"
   ]
  },
  {
   "cell_type": "code",
   "execution_count": 13,
   "metadata": {},
   "outputs": [],
   "source": [
    "deals_2018_2 = pd.read_csv('deals/deals20180315.csv', encoding = \"ISO-8859-1\", low_memory=False)"
   ]
  },
  {
   "cell_type": "code",
   "execution_count": 14,
   "metadata": {},
   "outputs": [],
   "source": [
    "deals_2020 = pd.read_csv('deals/deals_20200713.csv', encoding = \"ISO-8859-1\", low_memory=False)"
   ]
  },
  {
   "cell_type": "code",
   "execution_count": 15,
   "metadata": {},
   "outputs": [
    {
     "name": "stdout",
     "output_type": "stream",
     "text": [
      "(215691, 86)\n",
      "(220179, 89)\n",
      "(267884, 89)\n",
      "(276393, 89)\n",
      "(308361, 89)\n"
     ]
    }
   ],
   "source": [
    "print(deals_2018.shape)\n",
    "print(deals_2018_2.shape)\n",
    "print(deals_2019.shape)\n",
    "print(deals_2019_2.shape)\n",
    "print(deals_2020.shape)"
   ]
  },
  {
   "cell_type": "code",
   "execution_count": 19,
   "metadata": {},
   "outputs": [],
   "source": [
    "all_deals=deals_2018.merge(deals_2018_2.drop_duplicates('deal_id',keep='first')[['company_id','deal_id']],how=\"outer\")\n",
    "all_deals = all_deals.drop_duplicates(subset='deal_id', keep='first')"
   ]
  },
  {
   "cell_type": "code",
   "execution_count": 20,
   "metadata": {},
   "outputs": [
    {
     "name": "stdout",
     "output_type": "stream",
     "text": [
      "(220685, 86)\n"
     ]
    }
   ],
   "source": [
    "print(all_deals.shape)"
   ]
  },
  {
   "cell_type": "code",
   "execution_count": 22,
   "metadata": {},
   "outputs": [
    {
     "data": {
      "text/plain": [
       "(271771, 86)"
      ]
     },
     "execution_count": 22,
     "metadata": {},
     "output_type": "execute_result"
    }
   ],
   "source": [
    "all_deals=all_deals.merge(deals_2019.drop_duplicates('deal_id',keep='first')[['company_id','deal_id']],how=\"outer\")\n",
    "all_deals.shape"
   ]
  },
  {
   "cell_type": "code",
   "execution_count": 23,
   "metadata": {},
   "outputs": [
    {
     "data": {
      "text/plain": [
       "(281028, 86)"
      ]
     },
     "execution_count": 23,
     "metadata": {},
     "output_type": "execute_result"
    }
   ],
   "source": [
    "all_deals=all_deals.merge(deals_2019_2.drop_duplicates('deal_id',keep='first')[['company_id','deal_id']],how=\"outer\")\n",
    "all_deals.shape"
   ]
  },
  {
   "cell_type": "code",
   "execution_count": 24,
   "metadata": {},
   "outputs": [
    {
     "data": {
      "text/plain": [
       "(317153, 86)"
      ]
     },
     "execution_count": 24,
     "metadata": {},
     "output_type": "execute_result"
    }
   ],
   "source": [
    "all_deals=all_deals.merge(deals_2020.drop_duplicates('deal_id',keep='first')[['company_id','deal_id']],how=\"outer\")\n",
    "all_deals.shape"
   ]
  },
  {
   "cell_type": "code",
   "execution_count": 25,
   "metadata": {},
   "outputs": [],
   "source": [
    "all_deals.to_csv('deals/all_deals.csv', index=False)"
   ]
  },
  {
   "cell_type": "code",
   "execution_count": null,
   "metadata": {},
   "outputs": [],
   "source": []
  }
 ],
 "metadata": {
  "kernelspec": {
   "display_name": "Python 3",
   "language": "python",
   "name": "python3"
  },
  "language_info": {
   "codemirror_mode": {
    "name": "ipython",
    "version": 3
   },
   "file_extension": ".py",
   "mimetype": "text/x-python",
   "name": "python",
   "nbconvert_exporter": "python",
   "pygments_lexer": "ipython3",
   "version": "3.8.3"
  }
 },
 "nbformat": 4,
 "nbformat_minor": 4
}
