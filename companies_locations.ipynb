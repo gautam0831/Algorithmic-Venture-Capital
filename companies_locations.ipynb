{
 "cells": [
  {
   "cell_type": "code",
   "execution_count": 1,
   "metadata": {},
   "outputs": [],
   "source": [
    "import numpy as np\n",
    "import pandas as pd\n",
    "import csv"
   ]
  },
  {
   "cell_type": "markdown",
   "metadata": {},
   "source": [
    "## import and key dictionaries"
   ]
  },
  {
   "cell_type": "code",
   "execution_count": 2,
   "metadata": {},
   "outputs": [
    {
     "name": "stdout",
     "output_type": "stream",
     "text": [
      "   id      description\n",
      "0  -1              NaN\n",
      "1   1       Primary HQ\n",
      "2   2      Regional HQ\n",
      "3   3  Regional Office\n"
     ]
    }
   ],
   "source": [
    "location_type = pd.read_csv('company_locations/location_type_table.csv', encoding = \"ISO-8859-1\", low_memory=False)\n",
    "print(location_type)"
   ]
  },
  {
   "cell_type": "code",
   "execution_count": 3,
   "metadata": {},
   "outputs": [
    {
     "name": "stdout",
     "output_type": "stream",
     "text": [
      "{nan: -1, 'Primary HQ': 1, 'Regional HQ': 2, 'Regional Office': 3}\n"
     ]
    }
   ],
   "source": [
    "location_type_dict = pd.Series(location_type.id.values,index=location_type.description).to_dict()\n",
    "print(location_type_dict)"
   ]
  },
  {
   "cell_type": "code",
   "execution_count": 4,
   "metadata": {},
   "outputs": [
    {
     "name": "stdout",
     "output_type": "stream",
     "text": [
      "    id        description\n",
      "0   -1                NaN\n",
      "1    1            Alabama\n",
      "2    2             Alaska\n",
      "3    3            Arizona\n",
      "4    4           Arkansas\n",
      "..  ..                ...\n",
      "80  80         Queensland\n",
      "81  81    South Australia\n",
      "82  82           Tasmania\n",
      "83  83           Victoria\n",
      "84  84  Western Australia\n",
      "\n",
      "[85 rows x 2 columns]\n"
     ]
    }
   ],
   "source": [
    "state_key = pd.read_csv('company_locations/state_support_table.csv', encoding = \"ISO-8859-1\", low_memory=False)\n",
    "print(state_key)"
   ]
  },
  {
   "cell_type": "code",
   "execution_count": 5,
   "metadata": {},
   "outputs": [
    {
     "name": "stdout",
     "output_type": "stream",
     "text": [
      "{nan: -1, 'Alabama': 1, 'Alaska': 2, 'Arizona': 3, 'Arkansas': 4, 'California': 5, 'Colorado': 6, 'Connecticut': 7, 'Delaware': 8, 'District of Columbia': 9, 'Florida': 10, 'Georgia': 11, 'Hawaii': 12, 'Idaho': 13, 'Illinois': 14, 'Indiana': 15, 'Iowa': 16, 'Kansas': 17, 'Kentucky': 18, 'Louisiana': 19, 'Maine': 20, 'Maryland': 21, 'Massachusetts': 22, 'Michigan': 23, 'Minnesota': 24, 'Mississippi': 25, 'Missouri': 26, 'Montana': 27, 'Nebraska': 28, 'Nevada': 29, 'New Hampshire': 30, 'New Jersey': 31, 'New Mexico': 32, 'New York': 33, 'North Carolina': 34, 'North Dakota': 35, 'Ohio': 36, 'Oklahoma': 37, 'Oregon': 38, 'Other US Territory': 39, 'Pennsylvania': 40, 'Rhode Island': 41, 'South Carolina': 42, 'South Dakota': 43, 'Tennessee': 44, 'Texas': 45, 'Utah': 46, 'Vermont': 47, 'Virginia': 48, 'Washington': 49, 'West Virginia': 50, 'Wisconsin': 51, 'Wyoming': 52, 'Puerto Rico': 53, 'Virgin Islands': 54, 'Guam': 55, 'British Columbia': 56, 'Alberta': 57, 'Saskatchewan': 58, 'Manitoba': 59, 'Ontario': 60, 'Quebec': 61, 'New Brunswick': 62, 'Nova Scotia': 63, 'Prince Edward Island': 64, 'Newfoundland': 65, 'Yukon': 66, 'NW Territories': 67, 'Nunavut': 68, 'England': 69, 'Scotland': 70, 'Wales': 71, 'Northern Ireland': 72, 'Jersey': 73, 'Guernsey': 74, 'Isle of Man': 75, 'Channel Islands': 76, 'Australian Capital Territory': 77, 'New South Wales': 78, 'Northern Territory': 79, 'Queensland': 80, 'South Australia': 81, 'Tasmania': 82, 'Victoria': 83, 'Western Australia': 84}\n"
     ]
    }
   ],
   "source": [
    "state_dict = pd.Series(state_key.id.values,index=state_key.description).to_dict()\n",
    "print(state_dict)"
   ]
  },
  {
   "cell_type": "markdown",
   "metadata": {},
   "source": [
    "## Import location data and change to numerical values based on dictionaries"
   ]
  },
  {
   "cell_type": "code",
   "execution_count": 6,
   "metadata": {
    "scrolled": true
   },
   "outputs": [],
   "source": [
    "locations2018 = pd.read_csv('company_locations/locations20180131.csv', encoding = \"ISO-8859-1\", low_memory=False)"
   ]
  },
  {
   "cell_type": "code",
   "execution_count": 7,
   "metadata": {},
   "outputs": [],
   "source": [
    "locations2018['state']= locations2018['state'].map(state_dict)\n",
    "locations2018['location_type']= locations2018['location_type'].map(location_type_dict)"
   ]
  },
  {
   "cell_type": "code",
   "execution_count": 8,
   "metadata": {},
   "outputs": [],
   "source": [
    "locations2018_2 = pd.read_csv('company_locations/locations201803015.csv', encoding = \"ISO-8859-1\", low_memory=False)"
   ]
  },
  {
   "cell_type": "code",
   "execution_count": 9,
   "metadata": {},
   "outputs": [],
   "source": [
    "locations2018_2['state']= locations2018_2['state'].map(state_dict)\n",
    "locations2018_2['location_type']= locations2018_2['location_type'].map(location_type_dict)"
   ]
  },
  {
   "cell_type": "code",
   "execution_count": 10,
   "metadata": {},
   "outputs": [],
   "source": [
    "locations2019 = pd.read_csv('company_locations/locations_20190829.csv', encoding = \"ISO-8859-1\", low_memory=False)"
   ]
  },
  {
   "cell_type": "code",
   "execution_count": 11,
   "metadata": {},
   "outputs": [],
   "source": [
    "locations2019['state']= locations2019['state'].map(state_dict)\n",
    "locations2019['location_type']= locations2019['location_type'].map(location_type_dict)"
   ]
  },
  {
   "cell_type": "code",
   "execution_count": 12,
   "metadata": {},
   "outputs": [],
   "source": [
    "locations2019_2 = pd.read_csv('company_locations/locations_20191114.csv', encoding = \"ISO-8859-1\", low_memory=False)"
   ]
  },
  {
   "cell_type": "code",
   "execution_count": 13,
   "metadata": {},
   "outputs": [],
   "source": [
    "locations2019_2['state']= locations2019_2['state'].map(state_dict)\n",
    "locations2019_2['location_type']= locations2019_2['location_type'].map(location_type_dict)"
   ]
  },
  {
   "cell_type": "code",
   "execution_count": 14,
   "metadata": {},
   "outputs": [],
   "source": [
    "locations2020 = pd.read_csv('company_locations/locations20200713.csv', encoding = \"ISO-8859-1\", low_memory=False)"
   ]
  },
  {
   "cell_type": "code",
   "execution_count": 15,
   "metadata": {},
   "outputs": [
    {
     "name": "stdout",
     "output_type": "stream",
     "text": [
      "  company_id location_id  location_name  location_type location_status  \\\n",
      "0  100001-08   38869-48L  San Francisco              1         Current   \n",
      "1  100002-16  113776-48L      Cambridge              1         Current   \n",
      "2  100003-15   67708-27L     Providence              1         Current   \n",
      "3  100004-77   38866-06L  San Francisco              1         Current   \n",
      "4  100005-67   38484-64L        Chicago              1         Current   \n",
      "\n",
      "                 address_1          address_2           city  state    zip  \\\n",
      "0                      NaN                NaN  San Francisco      5    NaN   \n",
      "1  77 Massachusetts Avenue     W31, 3rd floor      Cambridge     22  02139   \n",
      "2     244 Weybosset Street                NaN     Providence     41  02903   \n",
      "3          1 Sutter Street          Suite 707  San Francisco      5  94104   \n",
      "4     223 West Erie Street  Suite 2North West        Chicago     14  60614   \n",
      "\n",
      "         country       office_phone         office_fax last_updated  \n",
      "0  United States                NaN                NaN   06/01/2018  \n",
      "1  United States  +1 (617) 258-0720                NaN   06/01/2018  \n",
      "2  United States                NaN                NaN   07/06/2018  \n",
      "3  United States  +1 (800) 435-6817  +1 (415) 963-4123   06/01/2018  \n",
      "4  United States  +1 (224) 333-1255                NaN   06/01/2018  \n"
     ]
    }
   ],
   "source": [
    "print(locations2019.head())"
   ]
  },
  {
   "cell_type": "code",
   "execution_count": 16,
   "metadata": {},
   "outputs": [
    {
     "name": "stdout",
     "output_type": "stream",
     "text": [
      "(74210, 15)\n",
      "(75367, 15)\n",
      "(122743, 14)\n",
      "(126599, 14)\n",
      "(139855, 14)\n"
     ]
    }
   ],
   "source": [
    "print(locations2018.shape)\n",
    "print(locations2018_2.shape)\n",
    "print(locations2019.shape)\n",
    "print(locations2019_2.shape)\n",
    "print(locations2020.shape)"
   ]
  },
  {
   "cell_type": "markdown",
   "metadata": {},
   "source": [
    "## Merge all the location data"
   ]
  },
  {
   "cell_type": "code",
   "execution_count": 17,
   "metadata": {},
   "outputs": [
    {
     "data": {
      "text/plain": [
       "(75490, 15)"
      ]
     },
     "execution_count": 17,
     "metadata": {},
     "output_type": "execute_result"
    }
   ],
   "source": [
    "all_locations=locations2018.merge(locations2018_2.drop_duplicates('company_id',keep='first')[['company_id']],how=\"outer\")\n",
    "all_locations.shape"
   ]
  },
  {
   "cell_type": "code",
   "execution_count": 18,
   "metadata": {},
   "outputs": [
    {
     "data": {
      "text/plain": [
       "(123419, 15)"
      ]
     },
     "execution_count": 18,
     "metadata": {},
     "output_type": "execute_result"
    }
   ],
   "source": [
    "all_locations=all_locations.merge(locations2019.drop_duplicates('company_id',keep='first')[['company_id']],how=\"outer\")\n",
    "all_locations.shape"
   ]
  },
  {
   "cell_type": "code",
   "execution_count": 19,
   "metadata": {},
   "outputs": [
    {
     "data": {
      "text/plain": [
       "(127562, 15)"
      ]
     },
     "execution_count": 19,
     "metadata": {},
     "output_type": "execute_result"
    }
   ],
   "source": [
    "all_locations=all_locations.merge(locations2019_2.drop_duplicates('company_id',keep='first')[['company_id']],how=\"outer\")\n",
    "all_locations.shape"
   ]
  },
  {
   "cell_type": "code",
   "execution_count": 20,
   "metadata": {},
   "outputs": [
    {
     "data": {
      "text/plain": [
       "(142262, 15)"
      ]
     },
     "execution_count": 20,
     "metadata": {},
     "output_type": "execute_result"
    }
   ],
   "source": [
    "all_locations=all_locations.merge(locations2020.drop_duplicates('company_id',keep='first')[['company_id']],how=\"outer\")\n",
    "all_locations.shape"
   ]
  },
  {
   "cell_type": "code",
   "execution_count": 21,
   "metadata": {},
   "outputs": [],
   "source": [
    "all_locations.to_csv('company_locations/all_locations.csv', index=False)"
   ]
  },
  {
   "cell_type": "markdown",
   "metadata": {},
   "source": [
    "## Merge location data with company data"
   ]
  },
  {
   "cell_type": "code",
   "execution_count": 22,
   "metadata": {},
   "outputs": [],
   "source": [
    "companies = pd.read_csv('companies/all_companies.csv', encoding = \"ISO-8859-1\", low_memory=False)"
   ]
  },
  {
   "cell_type": "code",
   "execution_count": 23,
   "metadata": {},
   "outputs": [
    {
     "data": {
      "text/plain": [
       "(102419, 43)"
      ]
     },
     "execution_count": 23,
     "metadata": {},
     "output_type": "execute_result"
    }
   ],
   "source": [
    "companies.shape"
   ]
  },
  {
   "cell_type": "code",
   "execution_count": 25,
   "metadata": {},
   "outputs": [],
   "source": [
    "all_company_info = companies.merge(all_locations, on='company_id', how='inner')"
   ]
  },
  {
   "cell_type": "code",
   "execution_count": 26,
   "metadata": {},
   "outputs": [
    {
     "name": "stdout",
     "output_type": "stream",
     "text": [
      "(102350, 57)\n"
     ]
    }
   ],
   "source": [
    "print(all_company_info.shape)"
   ]
  },
  {
   "cell_type": "code",
   "execution_count": 27,
   "metadata": {},
   "outputs": [],
   "source": [
    "all_company_info.to_csv('company_info.csv', index=False)"
   ]
  }
 ],
 "metadata": {
  "kernelspec": {
   "display_name": "Python 3",
   "language": "python",
   "name": "python3"
  },
  "language_info": {
   "codemirror_mode": {
    "name": "ipython",
    "version": 3
   },
   "file_extension": ".py",
   "mimetype": "text/x-python",
   "name": "python",
   "nbconvert_exporter": "python",
   "pygments_lexer": "ipython3",
   "version": "3.8.3"
  }
 },
 "nbformat": 4,
 "nbformat_minor": 4
}
