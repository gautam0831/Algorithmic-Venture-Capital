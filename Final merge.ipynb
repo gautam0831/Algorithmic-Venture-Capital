{
 "cells": [
  {
   "cell_type": "code",
   "execution_count": 1,
   "metadata": {},
   "outputs": [],
   "source": [
    "import numpy as np\n",
    "import pandas as pd\n",
    "import csv"
   ]
  },
  {
   "cell_type": "markdown",
   "metadata": {},
   "source": [
    "## import and key dictionaries"
   ]
  },
  {
   "cell_type": "code",
   "execution_count": 2,
   "metadata": {},
   "outputs": [
    {
     "name": "stdout",
     "output_type": "stream",
     "text": [
      "(109626, 110)\n",
      "  company_id company_name    deal_id  deal_number announced_date  deal_date  \\\n",
      "0   53495-20           29  19983-88T          1.0            NaN   8/7/2009   \n",
      "1   53874-64         37.5  24149-80T          4.0      12/1/2012  12/7/2012   \n",
      "2   53874-64         37.5  24149-80T          4.0      12/1/2012  12/7/2012   \n",
      "3   53874-64         37.5  24149-80T          4.0      12/1/2012  12/7/2012   \n",
      "4   53874-64         37.5  88577-83T          5.0      4/24/2017  5/31/2017   \n",
      "\n",
      "   deal_size  pre_valuation  post_valuation post_valuation_status  ...  \\\n",
      "0    1.40000            NaN             NaN                   NaN  ...   \n",
      "1   15.00000           45.0        60.00000                Actual  ...   \n",
      "2   15.00000           45.0        60.00000                Actual  ...   \n",
      "3   15.00000           45.0        60.00000                Actual  ...   \n",
      "4    3.74999           60.0        63.74999                Actual  ...   \n",
      "\n",
      "  general_voting.rights shares_authorized par_value dividend_rate  \\\n",
      "0                   NaN               NaN       NaN           NaN   \n",
      "1                   Yes         2858436.0     0.001           NaN   \n",
      "2                   Yes        46899045.0     0.001           NaN   \n",
      "3                   Yes        31336627.0     0.001           NaN   \n",
      "4                   Yes        41109410.0     0.001           NaN   \n",
      "\n",
      "   original_price liquidation liquidation_pref_mutliple conversion_price  \\\n",
      "0             NaN         NaN                       NaN              NaN   \n",
      "1        0.704478    0.704478                       1.0         0.604479   \n",
      "2        0.428320    0.428320                       1.0         0.428320   \n",
      "3        0.511625    0.511625                       1.0         0.511625   \n",
      "4        0.511625    0.511625                       1.0         0.511625   \n",
      "\n",
      "  percent_owned last_updated_y  \n",
      "0           NaN            NaN  \n",
      "1      2.840633     12/29/2017  \n",
      "2     39.991206     12/29/2017  \n",
      "3     25.000000     12/29/2017  \n",
      "4     29.411757     12/29/2017  \n",
      "\n",
      "[5 rows x 110 columns]\n"
     ]
    }
   ],
   "source": [
    "deals_info = pd.read_csv('deals_captable.csv', encoding = \"ISO-8859-1\", low_memory=False)\n",
    "print(deals_info.shape)\n",
    "print(deals_info.head())"
   ]
  },
  {
   "cell_type": "code",
   "execution_count": 3,
   "metadata": {},
   "outputs": [
    {
     "name": "stdout",
     "output_type": "stream",
     "text": [
      "(102350, 57)\n",
      "  company_id company_name_x familiar_name previous_name exchange ticker  \\\n",
      "0   53495-20             29  29 Cosmetics           NaN      NaN    NaN   \n",
      "1   53874-64           37.5           NaN       TrapTek      NaN    NaN   \n",
      "2   62083-18             52           NaN           NaN      NaN    NaN   \n",
      "3   95778-37             87           NaN           NaN      NaN    NaN   \n",
      "4   61744-96            411        411.ca           NaN      NaN    NaN   \n",
      "\n",
      "   employee_count  year_founded     business_status  \\\n",
      "0             5.0        2007.0  Generating Revenue   \n",
      "1            26.0        2000.0  Generating Revenue   \n",
      "2             7.0        2012.0  Generating Revenue   \n",
      "3             NaN           NaN     Out of Business   \n",
      "4            86.0        1999.0  Generating Revenue   \n",
      "\n",
      "                         ownership_status  ...  address_2      city state  \\\n",
      "0                Privately Held (backing)  ...  Suite 402    Canton  11.0   \n",
      "1                Privately Held (backing)  ...  Suite 300   Boulder   6.0   \n",
      "2                Privately Held (backing)  ...        NaN  Columbia  42.0   \n",
      "3                         Out of Business  ...        NaN  New York  33.0   \n",
      "4  Acquired/Merged (Operating Subsidiary)  ...  Suite 300   Toronto  60.0   \n",
      "\n",
      "       zip        country  location_type location_status       office_phone  \\\n",
      "0    30114  United States            1.0         Current  +1 (800) 668-1483   \n",
      "1    80301  United States            1.0         Current  +1 (720) 652-9726   \n",
      "2    29201  United States            1.0         Current  +1 (803) 200-2459   \n",
      "3    10017  United States            1.0         Current                NaN   \n",
      "4  M3C 1H9         Canada            1.0         Current  +1 (416) 849-1432   \n",
      "\n",
      "          office_fax last_updated_y  \n",
      "0  +1 (888) 415-2929      6/25/2017  \n",
      "1  +1 (720) 207-5977      6/25/2017  \n",
      "2                NaN      6/25/2017  \n",
      "3                NaN      6/25/2017  \n",
      "4  +1 (416) 646-0570     12/29/2017  \n",
      "\n",
      "[5 rows x 57 columns]\n"
     ]
    }
   ],
   "source": [
    "company_info = pd.read_csv('company_info.csv', encoding = \"ISO-8859-1\", low_memory=False)\n",
    "print(company_info.shape)\n",
    "print(company_info.head())"
   ]
  },
  {
   "cell_type": "code",
   "execution_count": 4,
   "metadata": {},
   "outputs": [],
   "source": [
    "complete_companies = company_info.merge(deals_info, on='company_id', how='inner')"
   ]
  },
  {
   "cell_type": "code",
   "execution_count": 5,
   "metadata": {},
   "outputs": [
    {
     "name": "stdout",
     "output_type": "stream",
     "text": [
      "(109626, 166)\n"
     ]
    }
   ],
   "source": [
    "print(complete_companies.shape)"
   ]
  },
  {
   "cell_type": "code",
   "execution_count": 7,
   "metadata": {},
   "outputs": [],
   "source": [
    "complete_companies.to_csv('OUT_companies.csv', index=False)"
   ]
  },
  {
   "cell_type": "code",
   "execution_count": null,
   "metadata": {},
   "outputs": [],
   "source": []
  }
 ],
 "metadata": {
  "kernelspec": {
   "display_name": "Python 3",
   "language": "python",
   "name": "python3"
  },
  "language_info": {
   "codemirror_mode": {
    "name": "ipython",
    "version": 3
   },
   "file_extension": ".py",
   "mimetype": "text/x-python",
   "name": "python",
   "nbconvert_exporter": "python",
   "pygments_lexer": "ipython3",
   "version": "3.8.3"
  }
 },
 "nbformat": 4,
 "nbformat_minor": 4
}
