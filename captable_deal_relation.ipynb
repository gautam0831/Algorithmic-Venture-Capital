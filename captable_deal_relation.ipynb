{
 "cells": [
  {
   "cell_type": "code",
   "execution_count": 1,
   "metadata": {},
   "outputs": [],
   "source": [
    "import numpy as np\n",
    "import pandas as pd"
   ]
  },
  {
   "cell_type": "code",
   "execution_count": 2,
   "metadata": {},
   "outputs": [],
   "source": [
    "deals = pd.read_csv('deals/all_deals.csv', encoding = \"ISO-8859-1\", low_memory=False)"
   ]
  },
  {
   "cell_type": "code",
   "execution_count": 4,
   "metadata": {
    "scrolled": true
   },
   "outputs": [
    {
     "name": "stdout",
     "output_type": "stream",
     "text": [
      "(317153, 86)\n",
      "  company_id company_name    deal_id  deal_number announced_date  deal_date  \\\n",
      "0   53495-20           29  19983-88T          1.0            NaN   8/7/2009   \n",
      "1   53874-64         37.5  23506-12T          1.0            NaN  9/11/2007   \n",
      "2   53874-64         37.5  23506-03T          2.0            NaN  8/11/2009   \n",
      "3   53874-64         37.5  23506-21T          3.0            NaN  7/30/2010   \n",
      "4   53874-64         37.5  24149-80T          4.0      12/1/2012  12/7/2012   \n",
      "\n",
      "   deal_size  pre_valuation  post_valuation post_valuation_status  ...  \\\n",
      "0      1.400            NaN             NaN                   NaN  ...   \n",
      "1     20.436            NaN             NaN                   NaN  ...   \n",
      "2     11.430            NaN             NaN                   NaN  ...   \n",
      "3      1.500            NaN             NaN                   NaN  ...   \n",
      "4     15.000           45.0            60.0                Actual  ...   \n",
      "\n",
      "  debt_ebitda debt_equity lt_debt_lt_capital lt_debt_total_capital  \\\n",
      "0         NaN         NaN                NaN                   NaN   \n",
      "1         NaN         NaN                NaN                   NaN   \n",
      "2         NaN         NaN                NaN                   NaN   \n",
      "3         NaN         NaN                NaN                   NaN   \n",
      "4         NaN         NaN                NaN                   NaN   \n",
      "\n",
      "   revenue_percent_growth Ebitda_margin ebitda_percent_growth  \\\n",
      "0                     NaN           NaN                   NaN   \n",
      "1                     NaN           NaN                   NaN   \n",
      "2                     NaN           NaN                   NaN   \n",
      "3                     NaN           NaN                   NaN   \n",
      "4                     NaN           NaN                   NaN   \n",
      "\n",
      "  ebit_percent_growth net_income_percent_growth last_updated  \n",
      "0                 NaN                       NaN     5/4/2017  \n",
      "1                 NaN                       NaN    12/1/2017  \n",
      "2                 NaN                       NaN    12/1/2017  \n",
      "3                 NaN                       NaN    1/26/2018  \n",
      "4                 NaN                       NaN    12/1/2017  \n",
      "\n",
      "[5 rows x 86 columns]\n"
     ]
    }
   ],
   "source": [
    "print(deals.shape)\n",
    "print(deals.head())"
   ]
  },
  {
   "cell_type": "code",
   "execution_count": 5,
   "metadata": {},
   "outputs": [
    {
     "data": {
      "text/plain": [
       "(97200, 27)"
      ]
     },
     "execution_count": 5,
     "metadata": {},
     "output_type": "execute_result"
    }
   ],
   "source": [
    "captable2018 = pd.read_csv('captable_deal/captables20180131.csv', encoding = \"ISO-8859-1\", low_memory=False)\n",
    "captable2018.shape"
   ]
  },
  {
   "cell_type": "code",
   "execution_count": 6,
   "metadata": {},
   "outputs": [
    {
     "data": {
      "text/plain": [
       "(105434, 27)"
      ]
     },
     "execution_count": 6,
     "metadata": {},
     "output_type": "execute_result"
    }
   ],
   "source": [
    "captable2018_2 = pd.read_csv('captable_deal/captables20180918.csv', encoding = \"ISO-8859-1\", low_memory=False)\n",
    "captable2018_2.shape"
   ]
  },
  {
   "cell_type": "code",
   "execution_count": 8,
   "metadata": {},
   "outputs": [
    {
     "data": {
      "text/plain": [
       "(121758, 27)"
      ]
     },
     "execution_count": 8,
     "metadata": {},
     "output_type": "execute_result"
    }
   ],
   "source": [
    "captable2019 = pd.read_csv('captable_deal/captables20191114.csv', encoding = \"ISO-8859-1\", low_memory=False)\n",
    "captable2019.shape"
   ]
  },
  {
   "cell_type": "code",
   "execution_count": 9,
   "metadata": {},
   "outputs": [
    {
     "data": {
      "text/plain": [
       "(129579, 27)"
      ]
     },
     "execution_count": 9,
     "metadata": {},
     "output_type": "execute_result"
    }
   ],
   "source": [
    "captable2020 = pd.read_csv('captable_deal/captables20200713.csv', encoding = \"ISO-8859-1\", low_memory=False)\n",
    "captable2020.shape"
   ]
  },
  {
   "cell_type": "markdown",
   "metadata": {},
   "source": [
    "## Merge all the captables"
   ]
  },
  {
   "cell_type": "code",
   "execution_count": 10,
   "metadata": {},
   "outputs": [
    {
     "data": {
      "text/plain": [
       "(100561, 27)"
      ]
     },
     "execution_count": 10,
     "metadata": {},
     "output_type": "execute_result"
    }
   ],
   "source": [
    "all_captable=captable2018.merge(captable2018_2.drop_duplicates('deal_id',keep='first')[['deal_id']],how=\"outer\")\n",
    "all_captable.shape"
   ]
  },
  {
   "cell_type": "code",
   "execution_count": 11,
   "metadata": {},
   "outputs": [
    {
     "data": {
      "text/plain": [
       "(106495, 27)"
      ]
     },
     "execution_count": 11,
     "metadata": {},
     "output_type": "execute_result"
    }
   ],
   "source": [
    "all_captable=all_captable.merge(captable2019.drop_duplicates('deal_id',keep='first')[['deal_id']],how=\"outer\")\n",
    "all_captable.shape"
   ]
  },
  {
   "cell_type": "code",
   "execution_count": 12,
   "metadata": {},
   "outputs": [
    {
     "data": {
      "text/plain": [
       "(109635, 27)"
      ]
     },
     "execution_count": 12,
     "metadata": {},
     "output_type": "execute_result"
    }
   ],
   "source": [
    "all_captable=all_captable.merge(captable2020.drop_duplicates('deal_id',keep='first')[['deal_id']],how=\"outer\")\n",
    "all_captable.shape"
   ]
  },
  {
   "cell_type": "code",
   "execution_count": 15,
   "metadata": {},
   "outputs": [],
   "source": [
    "all_captable.to_csv('captable_deal/all_captable.csv', index=False)"
   ]
  },
  {
   "cell_type": "markdown",
   "metadata": {},
   "source": [
    "## Merge captable data with deal data "
   ]
  },
  {
   "cell_type": "code",
   "execution_count": 13,
   "metadata": {},
   "outputs": [],
   "source": [
    "all_deals_captable = deals.merge(all_captable, on='deal_id', how='inner')"
   ]
  },
  {
   "cell_type": "code",
   "execution_count": 14,
   "metadata": {},
   "outputs": [
    {
     "name": "stdout",
     "output_type": "stream",
     "text": [
      "(109626, 112)\n"
     ]
    }
   ],
   "source": [
    "print(all_deals_captable.shape)"
   ]
  },
  {
   "cell_type": "code",
   "execution_count": 16,
   "metadata": {},
   "outputs": [],
   "source": [
    "all_deals_captable.to_csv('deals_captable.csv', index=False)"
   ]
  },
  {
   "cell_type": "code",
   "execution_count": null,
   "metadata": {},
   "outputs": [],
   "source": []
  }
 ],
 "metadata": {
  "kernelspec": {
   "display_name": "Python 3",
   "language": "python",
   "name": "python3"
  },
  "language_info": {
   "codemirror_mode": {
    "name": "ipython",
    "version": 3
   },
   "file_extension": ".py",
   "mimetype": "text/x-python",
   "name": "python",
   "nbconvert_exporter": "python",
   "pygments_lexer": "ipython3",
   "version": "3.8.3"
  }
 },
 "nbformat": 4,
 "nbformat_minor": 4
}
